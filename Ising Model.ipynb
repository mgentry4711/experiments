{
 "cells": [
  {
   "cell_type": "code",
   "execution_count": 1,
   "metadata": {},
   "outputs": [],
   "source": [
    "import numpy as np\n",
    "from matplotlib import pyplot as plt"
   ]
  },
  {
   "cell_type": "code",
   "execution_count": 2,
   "metadata": {},
   "outputs": [],
   "source": [
    "class space():\n",
    "    def __init__(self, N, dim, T):\n",
    "        self.N = N\n",
    "        self.dim = dim\n",
    "        self.grid = np.zeros([N]*dim)\n",
    "        self.T = T\n",
    "    \n",
    "    def step(self):\n",
    "        step_matrix = np.zeros([self.N]*self.dim)\n",
    "        for index, value in np.ndenumerate(self.grid):\n",
    "            count = 0\n",
    "            for i, k in enumerate(index):\n",
    "                index_up = np.array(index)\n",
    "                index_up[i] += 1\n",
    "                if index_up[i] == self.N:\n",
    "                    index_up[i] = 0\n",
    "                index_down = np.array(index)\n",
    "                index_down[i] += -1\n",
    "                if index_down[i] < 0:\n",
    "                    index_down[i] = self.N-1 \n",
    "                if self.grid[tuple(index_up)] != self.grid[index]:\n",
    "                    count += 1 \n",
    "                if self.grid[tuple(index_down)] != self.grid[index]:\n",
    "                    count += 1\n",
    "            if np.random.uniform(0, 1) < np.exp(-float(count)/(self.T*2.0*float(self.dim))):\n",
    "                step_matrix[index] = 1\n",
    "        (self.grid+step_matrix)%2\n",
    "        \n"
   ]
  },
  {
   "cell_type": "code",
   "execution_count": 3,
   "metadata": {},
   "outputs": [],
   "source": [
    "s = space(40, 2, 10.0)\n",
    "s.grid = np.random.binomial(1, 0.5, size=[s.N]*s.dim)"
   ]
  },
  {
   "cell_type": "code",
   "execution_count": 5,
   "metadata": {},
   "outputs": [
    {
     "data": {
      "image/png": "[encoded data removed]",
      "text/plain": [
       "<Figure size 432x288 with 1 Axes>"
      ]
     },
     "metadata": {
      "needs_background": "light"
     },
     "output_type": "display_data"
    }
   ],
   "source": [
    "for t in range(1000):\n",
    "    s.step()\n",
    "plt.imshow(s.grid)\n",
    "plt.show()"
   ]
  },
  {
   "cell_type": "code",
   "execution_count": 83,
   "metadata": {},
   "outputs": [],
   "source": [
    "\n",
    "        "
   ]
  },
  {
   "cell_type": "code",
   "execution_count": null,
   "metadata": {},
   "outputs": [],
   "source": [
    "\n"
   ]
  },
  {
   "cell_type": "code",
   "execution_count": null,
   "metadata": {
    "collapsed": true
   },
   "outputs": [],
   "source": []
  }
 ],
 "metadata": {
  "kernelspec": {
   "display_name": "Python 3",
   "language": "python",
   "name": "python3"
  },
  "language_info": {
   "codemirror_mode": {
    "name": "ipython",
    "version": 3
   },
   "file_extension": ".py",
   "mimetype": "text/x-python",
   "name": "python",
   "nbconvert_exporter": "python",
   "pygments_lexer": "ipython3",
   "version": "3.7.1"
  }
 },
 "nbformat": 4,
 "nbformat_minor": 2
}
