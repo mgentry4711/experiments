{
 "cells": [
  {
   "cell_type": "code",
   "execution_count": 1,
   "metadata": {
    "collapsed": true
   },
   "outputs": [],
   "source": [
    "import numpy as np\n",
    "import matplotlib.pyplot as plt"
   ]
  },
  {
   "cell_type": "code",
   "execution_count": 2,
   "metadata": {
    "collapsed": true
   },
   "outputs": [],
   "source": [
    "class being(object):\n",
    "    def __init__(self, name, pop):\n",
    "        self.name = name\n",
    "        self.pop = pop\n",
    "        self.dpop = 0.0\n",
    "\n",
    "    def change_pop(self, dt):\n",
    "        self.pop += self.dpop*dt\n",
    "    def die(self, u):\n",
    "        p = self.get_pop()\n",
    "        return u*p\n",
    "        \n",
    "    def info(self):\n",
    "        print(self.name, self.pop, self)\n",
    "    def get_pop(self):\n",
    "        return self.pop\n",
    "    def get_name(self):\n",
    "        return self.name"
   ]
  },
  {
   "cell_type": "code",
   "execution_count": 3,
   "metadata": {
    "collapsed": true
   },
   "outputs": [],
   "source": [
    "class autotroph(being):\n",
    "    def photosynthesis(self):\n",
    "        p = a.get_pop()\n",
    "        return p*(1.0-p)"
   ]
  },
  {
   "cell_type": "code",
   "execution_count": 4,
   "metadata": {
    "collapsed": true
   },
   "outputs": [],
   "source": [
    "class heterotroph(being):\n",
    "    def g(self, n, p):\n",
    "        return (2.0*n*p)/(n+p)\n",
    "    def eat(self, other):\n",
    "        n = other.get_pop()\n",
    "        p = self.get_pop()\n",
    "        dh = self.g(n,p)*p  \n",
    "        return dh"
   ]
  },
  {
   "cell_type": "code",
   "execution_count": 5,
   "metadata": {
    "collapsed": true
   },
   "outputs": [],
   "source": [
    "def time_step(critters, dt):\n",
    "    for critter in critters:\n",
    "        critter.change_pop(dt)"
   ]
  },
  {
   "cell_type": "code",
   "execution_count": 6,
   "metadata": {
    "collapsed": true
   },
   "outputs": [],
   "source": [
    "a = autotroph('a', 0.5)"
   ]
  },
  {
   "cell_type": "code",
   "execution_count": 114,
   "metadata": {
    "collapsed": true
   },
   "outputs": [],
   "source": [
    "A = [10.0]\n",
    "a = autotroph('a', A[0])\n",
    "dt = 0.1\n",
    "for t in range(200):\n",
    "    a.dpop = a.photosynthesis()\n",
    "    time_step([a], dt) \n",
    "    A.append(a.get_pop())\n",
    "    "
   ]
  },
  {
   "cell_type": "code",
   "execution_count": 115,
   "metadata": {},
   "outputs": [
    {
     "data": {
      "image/png": "[encoded data removed]",
      "text/plain": [
       "<matplotlib.figure.Figure at 0x11b896048>"
      ]
     },
     "metadata": {},
     "output_type": "display_data"
    }
   ],
   "source": [
    "plt.plot(A)\n",
    "plt.show()"
   ]
  },
  {
   "cell_type": "code",
   "execution_count": 133,
   "metadata": {},
   "outputs": [
    {
     "name": "stdout",
     "output_type": "stream",
     "text": [
      "grass 10.0 <__main__.autotroph object at 0x11aa2b2b0>\n",
      "cow 0.1 <__main__.heterotroph object at 0x11aa2b780>\n",
      "wolf 0.01 <__main__.heterotroph object at 0x11aa2b7b8>\n",
      "\n",
      "grass 0.8938278309848235 <__main__.autotroph object at 0x11aa2b2b0>\n",
      "cow 6.134381151850057e-89 <__main__.heterotroph object at 0x11aa2b780>\n",
      "wolf 5.152274472628301e-90 <__main__.heterotroph object at 0x11aa2b7b8>\n"
     ]
    }
   ],
   "source": [
    "grass_pop = [10.0]\n",
    "cow_pop = [0.1]\n",
    "wolf_pop = [0.01]\n",
    "grass = autotroph('grass', grass_pop[0])\n",
    "cow = heterotroph('cow', 0.1)\n",
    "wolf = heterotroph('wolf', 0.01)\n",
    "\n",
    "A = [10.0]\n",
    "a = autotroph('a', A[0])\n",
    "\n",
    "critters = [a, grass, cow, wolf]\n",
    "grass.info()\n",
    "cow.info()\n",
    "wolf.info()\n",
    "\n",
    "\n",
    "N = 20000\n",
    "dt = 0.1\n",
    "death_rate = 0.1\n",
    "# grass_pop = np.zeros(N)\n",
    "# cow_pop = np.zeros(N)\n",
    "# wolf_pop = np.zeros(N)\n",
    "for t in range(N):\n",
    "    grass_photo = grass.photosynthesis()\n",
    "    cow_eat = cow.eat(grass)\n",
    "    wolf_eat = wolf.eat(cow)\n",
    "    \n",
    "    grass.dpop = grass_photo - cow_eat\n",
    "    cow.dpop = 0.1*cow_eat - wolf_eat - cow.die(death_rate)\n",
    "    wolf.dpop = 0.1*wolf_eat - wolf.die(death_rate)\n",
    "    \n",
    "    a.dpop = a.photosynthesis()\n",
    "    \n",
    "    time_step(critters, dt)\n",
    "    \n",
    "    \n",
    "    grass_pop.append(grass.get_pop())\n",
    "    cow_pop.append(cow.get_pop())\n",
    "    wolf_pop.append(wolf.get_pop())\n",
    "    \n",
    "    A.append(a.get_pop())\n",
    "\n",
    "print('')\n",
    "grass.info()\n",
    "cow.info()\n",
    "wolf.info()"
   ]
  },
  {
   "cell_type": "code",
   "execution_count": 134,
   "metadata": {},
   "outputs": [
    {
     "data": {
      "image/png": "[encoded data removed]",
      "text/plain": [
       "<matplotlib.figure.Figure at 0x11ac26048>"
      ]
     },
     "metadata": {},
     "output_type": "display_data"
    }
   ],
   "source": [
    "plt.plot(grass_pop, color='g')\n",
    "plt.plot(cow_pop, color='r')\n",
    "plt.plot(wolf_pop, color='b')\n",
    "#plt.plot(A)\n",
    "plt.show()"
   ]
  },
  {
   "cell_type": "code",
   "execution_count": 132,
   "metadata": {},
   "outputs": [
    {
     "name": "stdout",
     "output_type": "stream",
     "text": [
      "grass 0.8963480936132187 <__main__.autotroph object at 0x1b6e2f978>\n",
      "cow 0.015773772479187178 <__main__.heterotroph object at 0x1b6e2fb00>\n",
      "wolf 0.0013615817743374626 <__main__.heterotroph object at 0x1b6e2f908>\n"
     ]
    },
    {
     "data": {
      "text/plain": [
       "(None, None, None)"
      ]
     },
     "execution_count": 132,
     "metadata": {},
     "output_type": "execute_result"
    }
   ],
   "source": [
    "grass.info(), cow.info(), wolf.info()"
   ]
  },
  {
   "cell_type": "code",
   "execution_count": 411,
   "metadata": {},
   "outputs": [
    {
     "data": {
      "text/plain": [
       "0.010101010101010102"
      ]
     },
     "execution_count": 411,
     "metadata": {},
     "output_type": "execute_result"
    }
   ],
   "source": [
    "1/99"
   ]
  },
  {
   "cell_type": "code",
   "execution_count": null,
   "metadata": {
    "collapsed": true
   },
   "outputs": [],
   "source": []
  },
  {
   "cell_type": "code",
   "execution_count": null,
   "metadata": {
    "collapsed": true
   },
   "outputs": [],
   "source": []
  }
 ],
 "metadata": {
  "kernelspec": {
   "display_name": "Python 3",
   "language": "python",
   "name": "python3"
  },
  "language_info": {
   "codemirror_mode": {
    "name": "ipython",
    "version": 3
   },
   "file_extension": ".py",
   "mimetype": "text/x-python",
   "name": "python",
   "nbconvert_exporter": "python",
   "pygments_lexer": "ipython3",
   "version": "3.6.3"
  }
 },
 "nbformat": 4,
 "nbformat_minor": 2
}
