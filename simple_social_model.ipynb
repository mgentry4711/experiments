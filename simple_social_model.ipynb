{
 "cells": [
  {
   "cell_type": "code",
   "execution_count": 13,
   "metadata": {},
   "outputs": [],
   "source": [
    "import numpy as np\n",
    "import matplotlib.pyplot as plt"
   ]
  },
  {
   "cell_type": "code",
   "execution_count": 17,
   "metadata": {},
   "outputs": [],
   "source": [
    "class model():\n",
    "    def __init__(self, N, resources):\n",
    "        self.N = N\n",
    "        self.I = np.identity(N)\n",
    "        self.resources = resources\n",
    "    \n",
    "    def eat(self,h=1.01):\n",
    "        self.resources = self.resources*(1.0-h)\n",
    "        \n",
    "    def work(self, p=1.01):\n",
    "        self.resources = self.resources*p\n",
    "        \n",
    "    def selfish(self):\n",
    "        power = self.resources/self.resources.sum()\n",
    "        flux = power*np.identity((N, N))\n",
    "\n"
   ]
  },
  {
   "cell_type": "code",
   "execution_count": 56,
   "metadata": {},
   "outputs": [
    {
     "data": {
      "text/plain": [
       "array([[0.5 , 0.25, 0.25],\n",
       "       [0.25, 0.5 , 0.25],\n",
       "       [0.25, 0.25, 0.5 ]])"
      ]
     },
     "execution_count": 56,
     "metadata": {},
     "output_type": "execute_result"
    }
   ],
   "source": [
    "N = 3\n",
    "I = np.identity(N)\n",
    "give = 0.5\n",
    "total_give = give*N\n",
    "divided = total_give/(N**2-N)\n",
    "flux = (1.0-give)*I + divided*(np.ones((N,N))-I)\n",
    "flux"
   ]
  },
  {
   "cell_type": "code",
   "execution_count": 84,
   "metadata": {},
   "outputs": [],
   "source": [
    "record = []\n",
    "R = np.random.random(N)\n",
    "R = R/R.sum()\n",
    "for give in np.linspace(0.1, 0.5, 4):\n",
    "    N = 3\n",
    "    I = np.identity(N)\n",
    "    give = 1.0-R\n",
    "    total_give = give*N\n",
    "    divided = total_give/(N**2-N)\n",
    "    flux = (1.0-give)*I + divided*(np.ones((N,N))-I)\n",
    "    flux\n",
    "#     R = np.random.random(N)\n",
    "    rr = []\n",
    "    for i in range(10):\n",
    "        R = np.dot(flux, R)\n",
    "        rr.append(R[0])\n",
    "    record.append(rr)"
   ]
  },
  {
   "cell_type": "code",
   "execution_count": 85,
   "metadata": {},
   "outputs": [
    {
     "data": {
      "image/png": "[encoded data removed]",
      "text/plain": [
       "<Figure size 432x288 with 1 Axes>"
      ]
     },
     "metadata": {
      "needs_background": "light"
     },
     "output_type": "display_data"
    }
   ],
   "source": [
    "for r in record:\n",
    "    plt.plot(r)"
   ]
  },
  {
   "cell_type": "code",
   "execution_count": 75,
   "metadata": {},
   "outputs": [
    {
     "data": {
      "text/plain": [
       "array([0.        , 0.33333333, 0.66666667, 1.        ])"
      ]
     },
     "execution_count": 75,
     "metadata": {},
     "output_type": "execute_result"
    }
   ],
   "source": []
  },
  {
   "cell_type": "code",
   "execution_count": null,
   "metadata": {},
   "outputs": [],
   "source": []
  }
 ],
 "metadata": {
  "kernelspec": {
   "display_name": "Python 3",
   "language": "python",
   "name": "python3"
  },
  "language_info": {
   "codemirror_mode": {
    "name": "ipython",
    "version": 3
   },
   "file_extension": ".py",
   "mimetype": "text/x-python",
   "name": "python",
   "nbconvert_exporter": "python",
   "pygments_lexer": "ipython3",
   "version": "3.7.1"
  }
 },
 "nbformat": 4,
 "nbformat_minor": 2
}
