{
 "cells": [
  {
   "cell_type": "code",
   "execution_count": 112,
   "metadata": {},
   "outputs": [],
   "source": [
    "import numpy as np\n",
    "import matplotlib.pyplot as plt\n",
    "from scipy.integrate import odeint"
   ]
  },
  {
   "cell_type": "code",
   "execution_count": 14,
   "metadata": {},
   "outputs": [],
   "source": [
    "### define functions \n",
    "def tropics(nu, Cd, Ct, B, phit):\n",
    "    dndt = nu*Cd - nu*Ct - B - phit\n",
    "    dcdt = dndt/Vt\n",
    "    return dcdt\n",
    "\n",
    "def poles(nu, Ct, Cp, phip):\n",
    "    dndt = nu*Ct - nu*Cp - phip\n",
    "    dcdt = dndt/Vp\n",
    "    return dcdt\n",
    "\n",
    "def depths(nu, Cp, Cd):\n",
    "    dndt = nu*Cp - nu*Cd\n",
    "    dcdt = dndt/Vp\n",
    "    return dcdt\n",
    "\n",
    "def bio(C):\n",
    "    kbio = 1.0 #m^-3 yr^-1\n",
    "    b = kbio*C # mol yr^-1 \n",
    "    return b\n",
    "\n",
    "def phi(C, T):\n",
    "    S = solubility(T) #mol/kg/atm\n",
    "    Patm = 280.0e-6 #atm\n",
    "    rho = 1000.0 #kg/m^3\n",
    "    Catm = S*Patm*rho #mol/m^3\n",
    "    u = 10.0 # m/s\n",
    "    Sc = schmidtCO2(T) # dimensionless\n",
    "    k = wanninkhof92(u, Sc) #cm hr^-1\n",
    "    p = k*(C-Catm) #cm hr^-1 mol m^-3\n",
    "    convert = 1e-2*24.0*365.0 #cm/m * hr/day * days/year\n",
    "    return p*convert #mol m^2 yr^-1\n",
    "    \n",
    "### define wanninkhof (1992) formulation\n",
    "def wanninkhof92(u, Sc):\n",
    "    # u is in m s^-1\n",
    "    # Sc is dimensionless\n",
    "    # k is in cm hr^-1\n",
    "    k = 0.31*u**2.0*(Sc/600.0)**0.5\n",
    "    return k\n",
    "\n",
    "### define schmidt number\n",
    "def schmidtCO2(T):\n",
    "    # T must be in celsius\n",
    "    # coefs are for CO2\n",
    "    A = 2073.1\n",
    "    B = 125.62\n",
    "    C = 3.6276\n",
    "    D = 0.043219\n",
    "    sc = A- B*T + C*T**2 -D*T**3\n",
    "    return sc\n",
    "\n",
    "def solubility(TEMP):\n",
    "    tk = TEMP + 273.15 # convert to Kelvin\n",
    "    tk100 = tk * 1e-2\n",
    "    tk1002 = tk100 * tk100\n",
    "    s = 35.0 # psu\n",
    "    ff = np.exp(-162.8301 + (218.2968/tk100) + 90.9241*np.log(tk100) - 1.47696*tk1002 + s*(0.025695 - 0.025225*tk100 + 0.0049867*tk1002))\n",
    "    return ff # units are mol/kg/atm"
   ]
  },
  {
   "cell_type": "code",
   "execution_count": 110,
   "metadata": {},
   "outputs": [],
   "source": [
    "N = 10000\n",
    "times = np.linspace(0, 1.0, N) # years\n",
    "# inital conditions\n",
    "Ct = np.zeros(N)\n",
    "Cp = np.zeros(N)\n",
    "Cd = np.zeros(N)\n",
    "Ct[0], Cp[0], Cd[0] = 300.0, 300.0, 300.0\n",
    "Tt = 25.0 #celsius\n",
    "Tp = 0.0\n",
    "nu = 0.01 #m/s\n",
    "# volumes\n",
    "Vt = 1.0\n",
    "Vp = 1.0\n",
    "Vd = 1.0\n",
    "dt = np.diff(times)[0]\n",
    "\n",
    "Ctodeint(tropics, (nu, Cd[ii], Ct[ii], Bt, phit))\n",
    "phit = phi(Ct[ii], Tt)\n",
    "Bt = bio(Ct[ii])\n",
    "Ct[ii+1] = Ct[ii] + dt*tropics(nu, Cd[ii], Ct[ii], Bt, phit)\n",
    "\n",
    "# poles\n",
    "phip = phi(Cp[ii], Tp)\n",
    "Cp[ii+1] = Cp[ii] + dt*poles(nu, Ct[ii], Cp[ii], phip)\n",
    "\n",
    "# depths\n",
    "Cd[ii+1] = Cd[ii] + dt*depths(nu, Cp[ii], Cd[ii])"
   ]
  },
  {
   "cell_type": "code",
   "execution_count": 111,
   "metadata": {},
   "outputs": [
    {
     "data": {
      "text/plain": [
       "(-1000, 1000)"
      ]
     },
     "execution_count": 111,
     "metadata": {},
     "output_type": "execute_result"
    },
    {
     "data": {
      "image/png": "[encoded data removed]",
      "text/plain": [
       "<Figure size 432x288 with 1 Axes>"
      ]
     },
     "metadata": {
      "needs_background": "light"
     },
     "output_type": "display_data"
    }
   ],
   "source": [
    "plt.plot(times,Ct)\n",
    "plt.ylim(-1000,1000)"
   ]
  },
  {
   "cell_type": "code",
   "execution_count": null,
   "metadata": {},
   "outputs": [],
   "source": []
  }
 ],
 "metadata": {
  "kernelspec": {
   "display_name": "Python 3",
   "language": "python",
   "name": "python3"
  },
  "language_info": {
   "codemirror_mode": {
    "name": "ipython",
    "version": 3
   },
   "file_extension": ".py",
   "mimetype": "text/x-python",
   "name": "python",
   "nbconvert_exporter": "python",
   "pygments_lexer": "ipython3",
   "version": "3.7.1"
  }
 },
 "nbformat": 4,
 "nbformat_minor": 2
}
